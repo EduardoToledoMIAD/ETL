{
 "cells": [
  {
   "cell_type": "markdown",
   "metadata": {
    "id": "IcY9y56n86vn"
   },
   "source": [
    "# TAREA 4: ETL para Proveedores y Movimientos"
   ]
  },
  {
   "cell_type": "markdown",
   "metadata": {
    "id": "LqQVz5s686vq"
   },
   "source": [
    "##  0. Configuración Inicial"
   ]
  },
  {
   "cell_type": "markdown",
   "metadata": {},
   "source": [
    "### 0.1 Scripts de la DB \n",
    "Este script \"reinicia\" la db con las tablas, y borra registros si a lugar para ser la primera vez que se corre el ETL. </br>\n",
    "[DB Script](https://github.com/EduardoToledoMIAD/ETL/blob/main/Semana_4/Configuracion%20Schema.sql)\n",
    "\n",
    "A continuacion , se observa el estado de la bd , una vez fue inicializada con el anterior script:\n",
    "\n",
    "![](https://raw.githubusercontent.com/EduardoToledoMIAD/ETL/main/Semana_4/images/DB%20Status.png)"
   ]
  },
  {
   "cell_type": "markdown",
   "metadata": {},
   "source": [
    "### 0.2 Configuracion JDBC"
   ]
  },
  {
   "cell_type": "code",
   "execution_count": 1,
   "metadata": {
    "id": "os1iJYmu86vt"
   },
   "outputs": [],
   "source": [
    "# Configuración servidor base de datos transaccional\n",
    "db_user = 'Estudiante_111_202315'\n",
    "db_psswd = 'aabb1122'\n",
    "source_db_connection_string = 'jdbc:mysql://157.253.236.116:8080/WWImportersTransactional'\n",
    "dest_db_connection_string = 'jdbc:mysql://157.253.236.116:8080/Estudiante_111_202315'\n",
    "\n",
    "\n",
    "\n",
    "db_connection_string = 'jdbc:mysql://157.253.236.116:8080/WWImportersTransactional'\n",
    "# Driver de conexion\n",
    "path_jar_driver = 'C:\\Program Files (x86)\\MySQL\\Connector J 8.0\\mysql-connector-java-8.0.28.jar'\n",
    "\n",
    "PATH='./'"
   ]
  },
  {
   "cell_type": "code",
   "execution_count": 2,
   "metadata": {
    "id": "HAGk_V1986vu"
   },
   "outputs": [],
   "source": [
    "import os \n",
    "from pyspark.sql import functions as f, SparkSession, types as t\n",
    "from pyspark import SparkContext, SparkConf, SQLContext\n",
    "from pyspark.sql.functions import udf, col, length, isnan, when, count, regexp_replace\n",
    "from datetime import datetime\n",
    "from pyspark.sql.functions import lit\n",
    "from pyspark.sql.types import TimestampType, DateType\n",
    "import re\n",
    "from pyspark.sql.functions import *\n",
    "from pyspark.sql.types import StructType, StructField, TimestampType,IntegerType,StringType,DecimalType\n",
    "from pyspark.sql.functions import col, date_format, to_date\n",
    "\n"
   ]
  },
  {
   "cell_type": "markdown",
   "metadata": {},
   "source": [
    "### 0.2 Creacion session de Spark"
   ]
  },
  {
   "cell_type": "code",
   "execution_count": 3,
   "metadata": {
    "id": "TQ3DM_Xf86vv",
    "outputId": "f2cdb157-a92d-4edc-a174-6f3bd09b9885"
   },
   "outputs": [
    {
     "name": "stderr",
     "output_type": "stream",
     "text": [
      "C:\\Users\\estudiante\\anaconda3\\envs\\Tutoriales\\lib\\site-packages\\pyspark\\sql\\context.py:79: FutureWarning: Deprecated in 3.0.0. Use SparkSession.builder.getOrCreate() instead.\n",
      "  FutureWarning\n"
     ]
    }
   ],
   "source": [
    "#Configuración de la sesión\n",
    "conf=SparkConf() \\\n",
    "    .set('spark.driver.extraClassPath', path_jar_driver)\n",
    "\n",
    "spark_context = SparkContext(conf=conf)\n",
    "sql_context = SQLContext(spark_context)\n",
    "spark = sql_context.sparkSession"
   ]
  },
  {
   "cell_type": "markdown",
   "metadata": {
    "id": "buA7s-vL86vw"
   },
   "source": [
    "### 0.3 Conexión y carga de datos"
   ]
  },
  {
   "cell_type": "markdown",
   "metadata": {
    "id": "r_QZ-j9q86vw"
   },
   "source": [
    "Se define la función para conexión y cargue de dataframes desde la base de datos origen y luego la función para guardar un dataframe en una tabla de la base de datos destino."
   ]
  },
  {
   "cell_type": "code",
   "execution_count": 4,
   "metadata": {
    "id": "Mhy0jbh_86vw"
   },
   "outputs": [],
   "source": [
    "def obterner_dataframe_desde_csv(_PATH, _sep):\n",
    "    return spark.read.load(_PATH, format=\"csv\", sep=_sep, inferSchema=\"true\", header='true')\n",
    "\n",
    "def obtener_dataframe_de_bd(db_connection_string, sql, db_user, db_psswd):\n",
    "    df_bd = spark.read.format('jdbc')\\\n",
    "        .option('url', db_connection_string) \\\n",
    "        .option('dbtable', sql) \\\n",
    "        .option('user', db_user) \\\n",
    "        .option('password', db_psswd) \\\n",
    "        .option('driver', 'com.mysql.cj.jdbc.Driver') \\\n",
    "        .load()\n",
    "    return df_bd\n",
    "\n",
    "def guardar_db(db_connection_string, df, tabla, db_user, db_psswd):\n",
    "    df.select('*').write.format('jdbc') \\\n",
    "      .mode('append') \\\n",
    "      .option('url', db_connection_string) \\\n",
    "      .option('dbtable', tabla) \\\n",
    "      .option('user', db_user) \\\n",
    "      .option('password', db_psswd) \\\n",
    "      .option('driver', 'com.mysql.cj.jdbc.Driver') \\\n",
    "      .save()"
   ]
  },
  {
   "cell_type": "markdown",
   "metadata": {
    "id": "ZhFsv4ba86vw"
   },
   "source": [
    "### 1. Tabla Dimensional: TIPOTRANSACTION\n",
    "\n",
    "Fuente de datos:\n",
    "Tabla transactional TiposTransaction . Su fuente de datos es la tabla transaccional <i>TiposTransaccion</i>\n"
   ]
  },
  {
   "cell_type": "markdown",
   "metadata": {
    "id": "XNKxFA-f86vx",
    "tags": []
   },
   "source": [
    "#### 1.1 Extracción\n"
   ]
  },
  {
   "cell_type": "code",
   "execution_count": 5,
   "metadata": {
    "id": "IopBNYuc86vx",
    "outputId": "0589f8a9-527e-4b28-d096-a176efd48e97"
   },
   "outputs": [
    {
     "name": "stdout",
     "output_type": "stream",
     "text": [
      "+-----------------+---------------------+\n",
      "|TipoTransaccionID|TipoTransaccionNombre|\n",
      "+-----------------+---------------------+\n",
      "|                2| Customer Credit Note|\n",
      "|                3| Customer Payment ...|\n",
      "|                4|      Customer Refund|\n",
      "|                5|     Supplier Invoice|\n",
      "|                6| Supplier Credit Note|\n",
      "|                7| Supplier Payment ...|\n",
      "|                8|      Supplier Refund|\n",
      "|                9|       Stock Transfer|\n",
      "|               10|          Stock Issue|\n",
      "|               11|        Stock Receipt|\n",
      "+-----------------+---------------------+\n",
      "only showing top 10 rows\n",
      "\n",
      "root\n",
      " |-- TipoTransaccionID: integer (nullable = true)\n",
      " |-- TipoTransaccionNombre: string (nullable = true)\n",
      "\n",
      "Numero de registros 12\n"
     ]
    }
   ],
   "source": [
    "sql_tipostrans = '''(SELECT DISTINCT TipoTransaccionID , TipoTransaccionNombre  FROM WWImportersTransactional.TiposTransaccion) AS Temp_empleados'''\n",
    "tipos_trans_df = obtener_dataframe_de_bd(source_db_connection_string, sql_tipostrans, db_user, db_psswd)\n",
    "tipos_trans_df.show(10)\n",
    "tipos_trans_df.printSchema()\n",
    "\n",
    "print(f'Numero de registros {tipos_trans_df.count()}');"
   ]
  },
  {
   "cell_type": "markdown",
   "metadata": {
    "id": "vtE61qk986vx"
   },
   "source": [
    "#### 1.2 Transformación\n",
    "Se cambian los nombres de las columnas fuente  a los nombres adecuados en la bodega: ID_Tipo_transaccion_T, Tipo"
   ]
  },
  {
   "cell_type": "code",
   "execution_count": 6,
   "metadata": {},
   "outputs": [
    {
     "name": "stdout",
     "output_type": "stream",
     "text": [
      "root\n",
      " |-- ID_Tipo_transaccion_T: integer (nullable = true)\n",
      " |-- Tipo: string (nullable = true)\n",
      "\n"
     ]
    }
   ],
   "source": [
    "# TRANSFORMACION\n",
    "tipos_trans_df= tipos_trans_df.selectExpr(\"TipoTransaccionID AS ID_Tipo_transaccion_T\", \"TipoTransaccionNombre AS Tipo\")\n",
    "tipos_trans_df.printSchema()\n",
    "\n"
   ]
  },
  {
   "cell_type": "markdown",
   "metadata": {
    "id": "X9Oou0g986vy"
   },
   "source": [
    "#### 1.3 Carga\n"
   ]
  },
  {
   "cell_type": "code",
   "execution_count": 7,
   "metadata": {
    "id": "qICUWYCa86vy"
   },
   "outputs": [],
   "source": [
    "# CARGUE\n",
    "guardar_db(dest_db_connection_string, tipos_trans_df,'Estudiante_111_202315.TipoTransaccion', db_user, db_psswd)\n"
   ]
  },
  {
   "cell_type": "markdown",
   "metadata": {
    "id": "K6k37LtO86vy"
   },
   "source": [
    "#### 1.4 Validacion"
   ]
  },
  {
   "cell_type": "code",
   "execution_count": 8,
   "metadata": {},
   "outputs": [
    {
     "name": "stdout",
     "output_type": "stream",
     "text": [
      "+-----------------------+---------------------+--------------------+\n",
      "|ID_Tipo_transaccion_DWH|ID_Tipo_transaccion_T|                Tipo|\n",
      "+-----------------------+---------------------+--------------------+\n",
      "|                      1|                    2|Customer Credit Note|\n",
      "|                      2|                    3|Customer Payment ...|\n",
      "|                      3|                    4|     Customer Refund|\n",
      "|                      4|                    5|    Supplier Invoice|\n",
      "|                      5|                    6|Supplier Credit Note|\n",
      "+-----------------------+---------------------+--------------------+\n",
      "only showing top 5 rows\n",
      "\n",
      "Numero de registros 12\n"
     ]
    }
   ],
   "source": [
    "test = obtener_dataframe_de_bd(dest_db_connection_string, \"Estudiante_111_202315.TipoTransaccion\", db_user, db_psswd)\n",
    "test.show(5)\n",
    "print(f'Numero de registros {test.count()}');"
   ]
  },
  {
   "cell_type": "markdown",
   "metadata": {},
   "source": [
    "#### 1.5 Evidencia MySQL\n",
    "\n",
    "Fueron almacenados 12 registros desde este notebook.\n",
    "\n",
    "\n",
    "![Numero Registros  TipoTransaction MySql](https://raw.githubusercontent.com/EduardoToledoMIAD/ETL/main/Semana_4/images/TipoTransaccion_MySQL.png)"
   ]
  },
  {
   "cell_type": "markdown",
   "metadata": {},
   "source": [
    "### 2. Dimension: CIUDAD\n",
    "Su fuente de datos es una combinación de las tablas transaccionales <i>paises, provinciasEstados y ciudades</i>"
   ]
  },
  {
   "cell_type": "markdown",
   "metadata": {},
   "source": [
    "#### 2.1 Extracción"
   ]
  },
  {
   "cell_type": "code",
   "execution_count": 9,
   "metadata": {},
   "outputs": [
    {
     "name": "stdout",
     "output_type": "stream",
     "text": [
      "['ID_Ciudad_T', 'NombreCiudad', 'ID_EstadoProvincia', 'Poblacion'] ['ID_Pais', 'Nombre', 'Continente', 'Region', 'Subregion'] ['ID_EstadoProvincia', 'NombreEstadoProvincia', 'TerritorioVentas', 'ID_Pais']\n"
     ]
    }
   ],
   "source": [
    "sql_paises = '''(SELECT DISTINCT ID_Pais, Nombre, Continente, Region, Subregion FROM WWImportersTransactional.Paises) AS Temp_paises'''\n",
    "sql_provincias_estados = '''(SELECT DISTINCT ID_EstadosProvincias AS ID_EstadoProvincia, NombreEstadoProvincia, TerritorioVentas, ID_Pais FROM WWImportersTransactional.EstadosProvincias) AS Temp_estados_provincias'''\n",
    "sql_ciudades = '''(SELECT DISTINCT ID_ciudad as ID_Ciudad_T, NombreCiudad, ID_EstadoProvincia, Poblacion FROM WWImportersTransactional.Ciudades) AS Temp_ciudades'''\n",
    "\n",
    "paises_df = obtener_dataframe_de_bd(source_db_connection_string, sql_paises, db_user, db_psswd)\n",
    "provincias_estados_df = obtener_dataframe_de_bd(source_db_connection_string, sql_provincias_estados, db_user, db_psswd)\n",
    "ciudades_df = obtener_dataframe_de_bd(source_db_connection_string, sql_ciudades, db_user, db_psswd)\n",
    "\n",
    "print(ciudades_df.columns, paises_df.columns, provincias_estados_df.columns)"
   ]
  },
  {
   "cell_type": "markdown",
   "metadata": {},
   "source": [
    "#### 2.2. Transformación\n",
    "- Cruzar con EstadoProvincias y Paises\n",
    "- Asignar un ID unico usando la funcion: monotonically_increasing_id"
   ]
  },
  {
   "cell_type": "code",
   "execution_count": 10,
   "metadata": {},
   "outputs": [
    {
     "name": "stdout",
     "output_type": "stream",
     "text": [
      "root\n",
      " |-- ID_Ciudad_DWH: long (nullable = false)\n",
      " |-- ID_ciudad_T: integer (nullable = true)\n",
      " |-- NombreCiudad: string (nullable = true)\n",
      " |-- Continente: string (nullable = true)\n",
      " |-- Pais: string (nullable = true)\n",
      " |-- Poblacion: long (nullable = true)\n",
      " |-- Region: string (nullable = true)\n",
      " |-- TerritorioVentas: string (nullable = true)\n",
      " |-- NombreEstadoProvincia: string (nullable = true)\n",
      " |-- Subregion: string (nullable = true)\n",
      "\n"
     ]
    },
    {
     "data": {
      "text/plain": [
       "[Row(ID_Ciudad_DWH=1, ID_ciudad_T=49, NombreCiudad='Absecon', Continente='North America', Pais='United States', Poblacion=8411, Region='Americas', TerritorioVentas='Mideast', NombreEstadoProvincia='New Jersey', Subregion='Northern America'),\n",
       " Row(ID_Ciudad_DWH=2, ID_ciudad_T=150, NombreCiudad='Adelphia', Continente='North America', Pais='United States', Poblacion=None, Region='Americas', TerritorioVentas='Mideast', NombreEstadoProvincia='New Jersey', Subregion='Northern America'),\n",
       " Row(ID_Ciudad_DWH=3, ID_ciudad_T=336, NombreCiudad='Albion', Continente='North America', Pais='United States', Poblacion=None, Region='Americas', TerritorioVentas='Mideast', NombreEstadoProvincia='New Jersey', Subregion='Northern America')]"
      ]
     },
     "execution_count": 10,
     "metadata": {},
     "output_type": "execute_result"
    }
   ],
   "source": [
    "# TRANSFORMACION\n",
    "ciudades_df = ciudades_df.join(provincias_estados_df, how = 'left', on = 'ID_EstadoProvincia')\n",
    "ciudades_df = ciudades_df.join(paises_df, how = 'left', on = 'ID_Pais')\n",
    "ciudades_df = ciudades_df.coalesce(1).withColumn('ID_Ciudad_DWH', f.monotonically_increasing_id() + 1)\n",
    "ciudades_df = ciudades_df.select('ID_Ciudad_DWH','ID_ciudad_T','NombreCiudad','Continente','Nombre','Poblacion',\n",
    "                          'Region','TerritorioVentas','NombreEstadoProvincia','Subregion') \\\n",
    "                    .withColumnRenamed('Nombre','Pais')\n",
    "\n",
    "ciudades_df.printSchema()\n",
    "\n",
    "ciudades_df.head(3)"
   ]
  },
  {
   "cell_type": "markdown",
   "metadata": {},
   "source": [
    "#### 2.3 Carga"
   ]
  },
  {
   "cell_type": "code",
   "execution_count": 11,
   "metadata": {},
   "outputs": [],
   "source": [
    "# CARGA\n",
    "guardar_db(dest_db_connection_string, ciudades_df,'Estudiante_111_202315.Ciudad', db_user, db_psswd)"
   ]
  },
  {
   "cell_type": "markdown",
   "metadata": {},
   "source": [
    "#### 2.4 Validacion"
   ]
  },
  {
   "cell_type": "code",
   "execution_count": 12,
   "metadata": {},
   "outputs": [
    {
     "name": "stdout",
     "output_type": "stream",
     "text": [
      "+-------------+-----------+------------+-------------+-------------+---------+--------+----------------+---------------------+----------------+\n",
      "|ID_Ciudad_DWH|ID_Ciudad_T|NombreCiudad|   Continente|         Pais|Poblacion|  Region|TerritorioVentas|NombreEstadoProvincia|       Subregion|\n",
      "+-------------+-----------+------------+-------------+-------------+---------+--------+----------------+---------------------+----------------+\n",
      "|            1|         49|     Absecon|North America|United States|     8411|Americas|         Mideast|           New Jersey|Northern America|\n",
      "|            2|        150|    Adelphia|North America|United States|     null|Americas|         Mideast|           New Jersey|Northern America|\n",
      "|            3|        336|      Albion|North America|United States|     null|Americas|         Mideast|           New Jersey|Northern America|\n",
      "|            4|        458|   Allamuchy|North America|United States|       78|Americas|         Mideast|           New Jersey|Northern America|\n",
      "|            5|        480|   Allendale|North America|United States|     6505|Americas|         Mideast|           New Jersey|Northern America|\n",
      "+-------------+-----------+------------+-------------+-------------+---------+--------+----------------+---------------------+----------------+\n",
      "only showing top 5 rows\n",
      "\n",
      "Numero de registros 37940\n"
     ]
    }
   ],
   "source": [
    "#guardar_db(dest_db_connection_string, proveedores_df,'Estudiante_111_202315.Proveedor', db_user, db_psswd)\n",
    "test = obtener_dataframe_de_bd(dest_db_connection_string, \"Estudiante_111_202315.Ciudad\", db_user, db_psswd)\n",
    "test.show(5)\n",
    "print(f'Numero de registros {test.count()}');"
   ]
  },
  {
   "cell_type": "markdown",
   "metadata": {},
   "source": [
    "#### 2.5 Evidencia MySQL\n",
    "\n",
    "Fueron almacenados 37940 registros desde este notebook.\n",
    "\n",
    "\n",
    "![Numero Registros  Ciudad MySql](https://raw.githubusercontent.com/EduardoToledoMIAD/ETL/main/Semana_4/images/Ciudad_MySQL.jpg)"
   ]
  },
  {
   "cell_type": "markdown",
   "metadata": {
    "id": "fvj5E1GS86vz"
   },
   "source": [
    "### 3. Dimension: PROVEEDOR\n",
    "Su fuente de datos es una combinación de las tablas transaccionales <i>proveedoresCopia, CategoriasProveedores y Personas</i>"
   ]
  },
  {
   "cell_type": "markdown",
   "metadata": {
    "id": "B5kFkHTD86vz"
   },
   "source": [
    "#### 3.1 Extracción"
   ]
  },
  {
   "cell_type": "code",
   "execution_count": 13,
   "metadata": {
    "id": "FEW2mcMn86vz",
    "outputId": "a18be86c-fd81-4b56-de5c-bec1f41db118"
   },
   "outputs": [
    {
     "name": "stdout",
     "output_type": "stream",
     "text": [
      "root\n",
      " |-- ID_Proveedor_T: integer (nullable = true)\n",
      " |-- Nombre: string (nullable = true)\n",
      " |-- CategoriaProveedorID: integer (nullable = true)\n",
      " |-- PersonaContactoPrincipalID: integer (nullable = true)\n",
      " |-- Dias_pago: integer (nullable = true)\n",
      " |-- Codigo_postal: integer (nullable = true)\n",
      "\n",
      "root\n",
      " |-- CategoriaProveedorID: integer (nullable = true)\n",
      " |-- Categoria: string (nullable = true)\n",
      "\n",
      "root\n",
      " |-- ID_persona: integer (nullable = true)\n",
      " |-- Contacto_principal: string (nullable = true)\n",
      "\n",
      "+--------------+--------------------+--------------------+--------------------------+---------+-------------+\n",
      "|ID_Proveedor_T|              Nombre|CategoriaProveedorID|PersonaContactoPrincipalID|Dias_pago|Codigo_postal|\n",
      "+--------------+--------------------+--------------------+--------------------------+---------+-------------+\n",
      "|             4|      Fabrikam, Inc.|                   4|                        27|       30|        40351|\n",
      "|             5|Graphic Design In...|                   2|                        29|       14|        64847|\n",
      "|             7|       Litware, Inc.|                   5|                        33|       30|        95245|\n",
      "|             9|      Nod Publishers|                   2|                        37|        7|        27906|\n",
      "|            10|Northwind Electri...|                   3|                        39|       30|         7860|\n",
      "+--------------+--------------------+--------------------+--------------------------+---------+-------------+\n",
      "only showing top 5 rows\n",
      "\n"
     ]
    }
   ],
   "source": [
    "#EXTRACCION\n",
    "sql_provedores=  '''(SELECT DISTINCT ProveedorID as ID_Proveedor_T, NombreProveedor AS Nombre,CategoriaProveedorID, PersonaContactoPrincipalID, DiasPago AS Dias_pago, CodigoPostal AS Codigo_postal FROM WWImportersTransactional.proveedores) AS Temp_proveedores'''\n",
    "sql_cat_prov=  '''(SELECT DISTINCT CategoriaProveedorID, CategoriaProveedor AS Categoria FROM WWImportersTransactional.CategoriasProveedores) AS Temp_cat_proveedores'''\n",
    "sql_personas=  '''(SELECT DISTINCT ID_persona, NombreCompleto AS Contacto_principal FROM WWImportersTransactional.Personas) AS Temp_personas'''\n",
    "proveedores_df = obtener_dataframe_de_bd(source_db_connection_string, sql_provedores, db_user, db_psswd)\n",
    "cat_proveedores_df = obtener_dataframe_de_bd(source_db_connection_string, sql_cat_prov, db_user, db_psswd)\n",
    "personas_df = obtener_dataframe_de_bd(source_db_connection_string, sql_personas, db_user, db_psswd)\n",
    "proveedores_df.printSchema()\n",
    "cat_proveedores_df.printSchema()\n",
    "personas_df.printSchema()\n",
    "proveedores_df.count()\n",
    "proveedores_df.show(5)"
   ]
  },
  {
   "cell_type": "markdown",
   "metadata": {
    "id": "ddFhEOmL86vz"
   },
   "source": [
    "#### 3.2 Transformación\n",
    "\n"
   ]
  },
  {
   "cell_type": "markdown",
   "metadata": {},
   "source": [
    "##### 3.2.1 El código postal igual para todos nuestros proveedores es un error que también fue corregido. [VALIDACION]"
   ]
  },
  {
   "cell_type": "code",
   "execution_count": 14,
   "metadata": {},
   "outputs": [
    {
     "name": "stdout",
     "output_type": "stream",
     "text": [
      "+-------------+-----+\n",
      "|Codigo_postal|count|\n",
      "+-------------+-----+\n",
      "|        94101|    2|\n",
      "+-------------+-----+\n",
      "\n"
     ]
    }
   ],
   "source": [
    "# El código postal igual para todos nuestros proveedores es un error que también fue corregido.\n",
    "grupo_df = proveedores_df.groupBy(\"Codigo_postal\")\n",
    "cuentagrupos_df = grupo_df.count()\n",
    "#Obtener si hay duplicados\n",
    "cuentagrupos_df.filter(cuentagrupos_df[\"count\"] > 1).show()\n",
    "# Todos los codigos postales son difrentes excepto uno que se repite\n"
   ]
  },
  {
   "cell_type": "markdown",
   "metadata": {},
   "source": [
    "##### 3.2.1 Transformacion T1\n",
    "Cruzar con tablas transaccionales de  CategoriaProveedores y Personas"
   ]
  },
  {
   "cell_type": "code",
   "execution_count": 15,
   "metadata": {
    "id": "8un2p4so86v0",
    "outputId": "ba2758d9-aca3-4198-c13c-514bdbf51061"
   },
   "outputs": [
    {
     "name": "stdout",
     "output_type": "stream",
     "text": [
      "root\n",
      " |-- ID_Proveedor_T: integer (nullable = true)\n",
      " |-- Nombre: string (nullable = true)\n",
      " |-- Categoria: string (nullable = true)\n",
      " |-- Contacto_principal: string (nullable = true)\n",
      " |-- Dias_pago: integer (nullable = true)\n",
      " |-- Codigo_postal: integer (nullable = true)\n",
      "\n",
      "13\n"
     ]
    }
   ],
   "source": [
    "# TRANSFORMACION: T1\n",
    "\n",
    "proveedores_df= proveedores_df.join(cat_proveedores_df, how='left', on ='CategoriaProveedorID')\n",
    "proveedores_df= proveedores_df.join(personas_df, how='left', on = proveedores_df.PersonaContactoPrincipalID == personas_df.ID_persona)\n",
    "proveedores_df= proveedores_df.select('ID_Proveedor_T','Nombre', 'Categoria','Contacto_principal','Dias_pago','Codigo_postal')\n",
    "proveedores_df.printSchema()\n",
    "\n",
    "proveedores_df.head(3)\n",
    "\n",
    "print(proveedores_df.count())"
   ]
  },
  {
   "cell_type": "markdown",
   "metadata": {},
   "source": [
    "##### 3.2.2 Transformacion T2\n",
    "Dias_pago no puedene ser negativos. Multiplicar por -1"
   ]
  },
  {
   "cell_type": "code",
   "execution_count": 16,
   "metadata": {},
   "outputs": [
    {
     "name": "stdout",
     "output_type": "stream",
     "text": [
      "+--------------+--------------------+--------------------+------------------+---------+-------------+\n",
      "|ID_Proveedor_T|              Nombre|           Categoria|Contacto_principal|Dias_pago|Codigo_postal|\n",
      "+--------------+--------------------+--------------------+------------------+---------+-------------+\n",
      "|             6| Humongous Insurance|servicios de seguros|Madelaine  Cartier|       14|        37770|\n",
      "|             4|      Fabrikam, Inc.|                ropa|       Bill Lawson|       30|        40351|\n",
      "|            11|       Trey Research|servicios de mark...|      Donald Jones|        7|        57543|\n",
      "|            12|   The Phone Company| productos novedosos|           Hai Dam|       30|        56732|\n",
      "|             9|      Nod Publishers| productos novedosos|      Marcos Costa|        7|        27906|\n",
      "|             8|  Lucerne Publishing| productos novedosos|       Prem Prabhu|       30|        37659|\n",
      "|             2|       Contoso, Ltd.| productos novedosos|   Hanna Mihhailov|        7|        98253|\n",
      "|            10|Northwind Electri...|            juguetes|   Eliza Soderberg|       30|         7860|\n",
      "|            13|      Woodgrove Bank|servicios financi...|      Hubert Helms|        7|        94101|\n",
      "|             3|Consolidated Mess...|servicios de mens...|      Kerstin Parn|       30|        94101|\n",
      "|             5|Graphic Design In...| productos novedosos|        Penny Buck|       14|        64847|\n",
      "|             1| A Datum Corporation| productos novedosos|        Reio Kabin|       14|        46077|\n",
      "|             7|       Litware, Inc.|            embalaje|     Elias Myllari|       30|        95245|\n",
      "+--------------+--------------------+--------------------+------------------+---------+-------------+\n",
      "\n"
     ]
    }
   ],
   "source": [
    "proveedores_df = proveedores_df.withColumn(\"Dias_pago\", when(col(\"Dias_pago\") < 0, expr(\"Dias_pago * -1\")).otherwise(col(\"Dias_pago\")))\n",
    "proveedores_df.filter(col('Dias_pago') >= 0).show()"
   ]
  },
  {
   "cell_type": "markdown",
   "metadata": {},
   "source": [
    "##### 3.2.3 Transformacion T3\n",
    "En Movimientos, hay filas con proveedorId vacio. Este vacio sera representado con valor 0 en la dimension Proveedorees. . Crear el registro para proveedor vacio."
   ]
  },
  {
   "cell_type": "code",
   "execution_count": 17,
   "metadata": {},
   "outputs": [
    {
     "name": "stdout",
     "output_type": "stream",
     "text": [
      "[Row(ID_Proveedor_T=0, Nombre='Missing', Categoria='Missing', Contacto_principal='Missing', Dias_pago=None, Codigo_postal=None), Row(ID_Proveedor_T=4, Nombre='Fabrikam, Inc.', Categoria='ropa', Contacto_principal='Bill Lawson', Dias_pago=30, Codigo_postal=40351), Row(ID_Proveedor_T=5, Nombre='Graphic Design Institute', Categoria='productos novedosos', Contacto_principal='Penny Buck', Dias_pago=14, Codigo_postal=64847)]\n"
     ]
    },
    {
     "data": {
      "text/plain": [
       "14"
      ]
     },
     "execution_count": 17,
     "metadata": {},
     "output_type": "execute_result"
    }
   ],
   "source": [
    "# Crea el registro para proveedor = nulo\n",
    "\n",
    "schema = StructType([\n",
    "    StructField(\"ID_Proveedor_T\", IntegerType(), nullable=True),\n",
    "    StructField(\"Nombre\", StringType(), nullable=True),\n",
    "    StructField(\"Categoria\", StringType(), nullable=True),\n",
    "    StructField(\"Contacto_principal\", StringType(), nullable=True),\n",
    "    StructField(\"Dias_pago\", IntegerType(), nullable=True),\n",
    "    StructField(\"Codigo_postal\", IntegerType(), nullable=True)\n",
    "    \n",
    "])\n",
    "data = [(0, 'Missing', 'Missing','Missing',None,None)]\n",
    "proveedor_nulo_df = spark.createDataFrame(data, schema)\n",
    "proveedores_df = proveedor_nulo_df.union(proveedores_df)\n",
    "print(proveedores_df.head(3))\n",
    "proveedores_df.count()"
   ]
  },
  {
   "cell_type": "markdown",
   "metadata": {
    "id": "MuvVgJ4R86v0"
   },
   "source": [
    "#### 3.3. Carga"
   ]
  },
  {
   "cell_type": "code",
   "execution_count": 19,
   "metadata": {
    "id": "yCC2zZqY86v0"
   },
   "outputs": [],
   "source": [
    "# CARGUE\n",
    "guardar_db(dest_db_connection_string, proveedores_df,'Estudiante_111_202315.Proveedor', db_user, db_psswd)"
   ]
  },
  {
   "cell_type": "markdown",
   "metadata": {},
   "source": [
    "#### 3.4 Validacion"
   ]
  },
  {
   "cell_type": "code",
   "execution_count": 20,
   "metadata": {},
   "outputs": [
    {
     "name": "stdout",
     "output_type": "stream",
     "text": [
      "+----------------+--------------+-------------------+--------------------+------------------+---------+-------------+\n",
      "|ID_Proveedor_DWH|ID_Proveedor_T|             Nombre|           Categoria|Contacto_principal|Dias_pago|Codigo_postal|\n",
      "+----------------+--------------+-------------------+--------------------+------------------+---------+-------------+\n",
      "|               1|             6|Humongous Insurance|servicios de seguros|Madelaine  Cartier|       14|        37770|\n",
      "|               2|             4|     Fabrikam, Inc.|                ropa|       Bill Lawson|       30|        40351|\n",
      "|               3|            11|      Trey Research|servicios de mark...|      Donald Jones|        7|        57543|\n",
      "+----------------+--------------+-------------------+--------------------+------------------+---------+-------------+\n",
      "only showing top 3 rows\n",
      "\n",
      "Numero de registros 14\n"
     ]
    }
   ],
   "source": [
    "#guardar_db(dest_db_connection_string, proveedores_df,'Estudiante_111_202315.Proveedor', db_user, db_psswd)\n",
    "test = obtener_dataframe_de_bd(dest_db_connection_string, \"Estudiante_111_202315.Proveedor\", db_user, db_psswd)\n",
    "test.show(3)\n",
    "print(f'Numero de registros {test.count()}');"
   ]
  },
  {
   "cell_type": "markdown",
   "metadata": {},
   "source": [
    "#### 3.5 Evidencia MySQL\n",
    "\n",
    "Fueron almacenados 14 registros desde este notebook.\n",
    "\n",
    "\n",
    "![Numero Registros  Proveedor MySql](https://raw.githubusercontent.com/EduardoToledoMIAD/ETL/main/Semana_4/images/Proveedor_MySQL.png)"
   ]
  },
  {
   "cell_type": "markdown",
   "metadata": {
    "id": "7HpgwA6t86v0"
   },
   "source": [
    "### 4. Dimension :CLIENTE\n",
    "Su fuente de datos es una combinación de las tablas transaccionales <i>CategoriasCliente, GruposCompra y Clientes y la tabla dimensional de Ciudad</i>"
   ]
  },
  {
   "cell_type": "markdown",
   "metadata": {
    "id": "BZjDeVYd86v1"
   },
   "source": [
    "#### 4.1 Extracción"
   ]
  },
  {
   "cell_type": "code",
   "execution_count": 21,
   "metadata": {
    "id": "2HTzU96W86v1"
   },
   "outputs": [
    {
     "name": "stdout",
     "output_type": "stream",
     "text": [
      "root\n",
      " |-- ID_Categoria: integer (nullable = true)\n",
      " |-- NombreCategoria: string (nullable = true)\n",
      "\n",
      "root\n",
      " |-- ID_GrupoCompra: integer (nullable = true)\n",
      " |-- NombreGrupoCompra: string (nullable = true)\n",
      "\n",
      "root\n",
      " |-- ID_Ciudad_DWH: long (nullable = true)\n",
      " |-- ID_Ciudad_T: integer (nullable = true)\n",
      " |-- NombreCiudad: string (nullable = true)\n",
      " |-- Continente: string (nullable = true)\n",
      " |-- Pais: string (nullable = true)\n",
      " |-- Poblacion: long (nullable = true)\n",
      " |-- Region: string (nullable = true)\n",
      " |-- TerritorioVentas: string (nullable = true)\n",
      " |-- NombreEstadoProvincia: string (nullable = true)\n",
      " |-- Subregion: string (nullable = true)\n",
      "\n",
      "root\n",
      " |-- ID_Cliente_T: integer (nullable = true)\n",
      " |-- Nombre: string (nullable = true)\n",
      " |-- ClienteFactura: integer (nullable = true)\n",
      " |-- ID_Categoria: integer (nullable = true)\n",
      " |-- ID_GrupoCompra: integer (nullable = true)\n",
      " |-- ID_Ciudad_T: integer (nullable = true)\n",
      " |-- LimiteCredito: decimal(10,0) (nullable = true)\n",
      " |-- FechaAperturaCuenta: timestamp (nullable = true)\n",
      " |-- DiasPago: integer (nullable = true)\n",
      "\n"
     ]
    }
   ],
   "source": [
    "#EXTRACCION\n",
    "\n",
    "sql_categoriasCliente = '''(SELECT DISTINCT ID_Categoria, NombreCategoria FROM WWImportersTransactional.CategoriasCliente) AS Temp_categoriasclientes'''\n",
    "sql_gruposCompra = '''(SELECT DISTINCT ID_GrupoCompra, NombreGrupoCompra FROM WWImportersTransactional.GruposCompra) AS Temp_gruposcompra'''\n",
    "sql_ciudades =  '''(SELECT DISTINCT * FROM Estudiante_111_202315.Ciudad) AS Temp_ciudad'''\n",
    "sql_clientes = '''(SELECT DISTINCT ID_Cliente as ID_Cliente_T, Nombre, ClienteFactura, ID_Categoria, ID_GrupoCompra, ID_CiudadEntrega AS ID_Ciudad_T, LimiteCredito, FechaAperturaCuenta, DiasPago FROM WWImportersTransactional.Clientes) AS Temp_clientes'''\n",
    "\n",
    "categoriasCliente_df = obtener_dataframe_de_bd(source_db_connection_string, sql_categoriasCliente, db_user, db_psswd)\n",
    "gruposCompra_df = obtener_dataframe_de_bd(source_db_connection_string, sql_gruposCompra, db_user, db_psswd)\n",
    "ciudades_dwh_df= obtener_dataframe_de_bd(dest_db_connection_string, sql_ciudades, db_user, db_psswd)\n",
    "clientes_df = obtener_dataframe_de_bd(source_db_connection_string, sql_clientes, db_user, db_psswd)\n",
    "categoriasCliente_df.printSchema()\n",
    "gruposCompra_df.printSchema()\n",
    "ciudades_dwh_df.printSchema()\n",
    "clientes_df.printSchema()"
   ]
  },
  {
   "cell_type": "markdown",
   "metadata": {
    "id": "_7xbgfCk86v1"
   },
   "source": [
    "#### 4.2 Transformación\n",
    "##### 4.2.1 Transaformacion T1\n",
    "Cruzar con las tablas transaccionales de Clientes, CategoriaClientes, GruposCompras  y la tabla dimensional de Ciudades"
   ]
  },
  {
   "cell_type": "code",
   "execution_count": 22,
   "metadata": {
    "id": "97vmyl3Q86v1",
    "outputId": "0ffd3364-9b73-4001-e9bf-de53c97a2b5a"
   },
   "outputs": [
    {
     "name": "stdout",
     "output_type": "stream",
     "text": [
      "root\n",
      " |-- ID_Cliente_T: integer (nullable = true)\n",
      " |-- Nombre: string (nullable = true)\n",
      " |-- NombreCategoria: string (nullable = false)\n",
      " |-- NombreGrupoCompra: string (nullable = false)\n",
      " |-- ClienteFactura: integer (nullable = true)\n",
      " |-- ID_CiudadEntrega_DWH: integer (nullable = true)\n",
      " |-- LimiteCredito: decimal(10,0) (nullable = true)\n",
      " |-- FechaAperturaCuenta: timestamp (nullable = true)\n",
      " |-- DiasPago: integer (nullable = true)\n",
      "\n",
      "663\n"
     ]
    }
   ],
   "source": [
    "clientes_df = clientes_df.join(gruposCompra_df, how = 'left', on = 'ID_GrupoCompra')\n",
    "clientes_df = clientes_df.join(categoriasCliente_df, how = 'left', on = 'ID_Categoria') \n",
    "clientes_df = clientes_df.join(ciudades_dwh_df, how = 'left', on = 'ID_Ciudad_T')\n",
    "clientes_df = clientes_df.selectExpr('ID_Cliente_T','Nombre','NombreCategoria','NombreGrupoCompra','ClienteFactura',\n",
    "                                    'ID_Ciudad_T AS ID_CiudadEntrega_DWH','LimiteCredito','FechaAperturaCuenta','DiasPago')\n",
    "\n",
    "clientes_df = clientes_df.fillna({'NombreCategoria':'Missing','NombreGrupoCompra':'Missing'})\n",
    "clientes_df.printSchema()\n",
    "print(clientes_df.count())"
   ]
  },
  {
   "cell_type": "markdown",
   "metadata": {},
   "source": [
    "##### 4.2.2 Transformacion T2\n",
    "Adicionar Cliente con ID =0"
   ]
  },
  {
   "cell_type": "code",
   "execution_count": 23,
   "metadata": {},
   "outputs": [
    {
     "name": "stdout",
     "output_type": "stream",
     "text": [
      "[Row(ID_Cliente_T=0, Nombre='Missing', NombreCategoria='Missing', NombreGrupoCompra='Missing', ClienteFactura=None, ID_CiudadEntrega_DWH=None, LimiteCredito=None, FechaAperturaCuenta=None, DiasPago=None), Row(ID_Cliente_T=2, Nombre='Tailspin Toys (Sylvanite, MT)', NombreCategoria='Novelty Shop', NombreGrupoCompra='Tailspin Toys', ClienteFactura=1, ID_CiudadEntrega_DWH=33475, LimiteCredito=None, FechaAperturaCuenta=datetime.datetime(2013, 1, 1, 0, 0), DiasPago=7), Row(ID_Cliente_T=3, Nombre='Tailspin Toys (Peeples Valley, AZ)', NombreCategoria='Novelty Shop', NombreGrupoCompra='Tailspin Toys', ClienteFactura=1, ID_CiudadEntrega_DWH=26483, LimiteCredito=None, FechaAperturaCuenta=datetime.datetime(2013, 1, 1, 0, 0), DiasPago=7)]\n"
     ]
    },
    {
     "data": {
      "text/plain": [
       "664"
      ]
     },
     "execution_count": 23,
     "metadata": {},
     "output_type": "execute_result"
    }
   ],
   "source": [
    "# Adicionar Cliente con ID =0\n",
    "\n",
    "schema = StructType([\n",
    "    StructField(\"ID_Cliente_T\", IntegerType(), nullable=True),\n",
    "    StructField(\"Nombre\", StringType(), nullable=True),\n",
    "    StructField(\"NombreCategoria\", StringType(), nullable=True),\n",
    "    StructField(\"NombreGrupoCompra\", StringType(), nullable=True),\n",
    "    StructField(\"ClienteFactura\", IntegerType(), nullable=True),\n",
    "    StructField(\"ID_CiudadEntrega_DWH\", IntegerType(), nullable=True),\n",
    "    StructField(\"LimiteCredito\", DecimalType(10, 0), nullable=True),\n",
    "    StructField(\"FechaAperturaCuenta\", TimestampType(), nullable=True),\n",
    "    StructField(\"DiasPago\", IntegerType(), nullable=True)\n",
    "])\n",
    "data = [(0, 'Missing', 'Missing','Missing',None,None, None, None, None)]\n",
    "cliente_0_df = spark.createDataFrame(data, schema)\n",
    "clientes_df = cliente_0_df.union(clientes_df)\n",
    "print(clientes_df.head(3))\n",
    "clientes_df.count()"
   ]
  },
  {
   "cell_type": "markdown",
   "metadata": {
    "id": "Rh_102Yy86v1"
   },
   "source": [
    "#### 4.3 Carga"
   ]
  },
  {
   "cell_type": "code",
   "execution_count": 24,
   "metadata": {
    "id": "UpbxgpWn86v1"
   },
   "outputs": [],
   "source": [
    "# CARGUE\n",
    "guardar_db(dest_db_connection_string, clientes_df,'Estudiante_111_202315.Cliente', db_user, db_psswd)\n"
   ]
  },
  {
   "cell_type": "markdown",
   "metadata": {},
   "source": [
    "#### 4.4 Validacion"
   ]
  },
  {
   "cell_type": "code",
   "execution_count": 25,
   "metadata": {},
   "outputs": [
    {
     "name": "stdout",
     "output_type": "stream",
     "text": [
      "[Row(ID_Cliente_DWH=1, ID_Cliente_T=849, Nombre='Sabine Zalite', ClienteFactura=849, ID_CiudadEntrega_DWH=14377, LimiteCredito=Decimal('1500.00'), FechaAperturaCuenta=datetime.date(2013, 1, 1), DiasPago=7, NombreGrupoCompra='Missing', NombreCategoria='Supermarket'), Row(ID_Cliente_DWH=2, ID_Cliente_T=475, Nombre='Wingtip Toys (Cale, AR)', ClienteFactura=401, ID_CiudadEntrega_DWH=4900, LimiteCredito=None, FechaAperturaCuenta=datetime.date(2013, 1, 1), DiasPago=7, NombreGrupoCompra='Wingtip Toys', NombreCategoria='Novelty Shop'), Row(ID_Cliente_DWH=3, ID_Cliente_T=508, Nombre='Wingtip Toys (Branson West, MO)', ClienteFactura=401, ID_CiudadEntrega_DWH=3876, LimiteCredito=None, FechaAperturaCuenta=datetime.date(2013, 1, 1), DiasPago=7, NombreGrupoCompra='Wingtip Toys', NombreCategoria='Novelty Shop')]\n"
     ]
    },
    {
     "data": {
      "text/plain": [
       "664"
      ]
     },
     "execution_count": 25,
     "metadata": {},
     "output_type": "execute_result"
    }
   ],
   "source": [
    "#guardar_db(dest_db_connection_string, proveedores_df,'Estudiante_111_202315.Proveedor', db_user, db_psswd)\n",
    "test = obtener_dataframe_de_bd(dest_db_connection_string, \"Estudiante_111_202315.Cliente\", db_user, db_psswd)\n",
    "print(test.head(3))\n",
    "test.count()"
   ]
  },
  {
   "cell_type": "markdown",
   "metadata": {
    "id": "bTy1oE3V86v2"
   },
   "source": [
    "#### 4.5 Evidencia MySQL\n",
    "\n",
    "Fueron almacenados 664 registros desde este notebook.\n",
    "\n",
    "\n",
    "![Numero Registros  Clientes MySql](https://raw.githubusercontent.com/EduardoToledoMIAD/ETL/main/Semana_4/images/Cliente_MySQL.png)"
   ]
  },
  {
   "cell_type": "markdown",
   "metadata": {
    "id": "yYetZ2Ip86v2"
   },
   "source": [
    "### 5. Dimension: PRODUCTOS\n",
    "Su fuente de datos es la combinación entre las tablas transaccionales *Productos y Colores*"
   ]
  },
  {
   "cell_type": "markdown",
   "metadata": {
    "id": "HogvCqW_86v2"
   },
   "source": [
    "#### 5.1 Extracción"
   ]
  },
  {
   "cell_type": "code",
   "execution_count": 26,
   "metadata": {
    "id": "ZEJjQslF86v2"
   },
   "outputs": [
    {
     "name": "stdout",
     "output_type": "stream",
     "text": [
      "root\n",
      " |-- ID_Producto_T: integer (nullable = true)\n",
      " |-- ID_Color: integer (nullable = true)\n",
      " |-- Nombre: string (nullable = true)\n",
      " |-- Marca: string (nullable = true)\n",
      " |-- Necesitarefrigeracion: integer (nullable = true)\n",
      " |-- Dias_tiempo_entrega: integer (nullable = true)\n",
      " |-- Precio_minorista_recomendado: decimal(10,0) (nullable = true)\n",
      " |-- Impuesto: decimal(10,0) (nullable = true)\n",
      " |-- Precio_unitario: decimal(10,0) (nullable = true)\n",
      "\n",
      "root\n",
      " |-- ID_Color: integer (nullable = true)\n",
      " |-- Color: string (nullable = true)\n",
      "\n"
     ]
    }
   ],
   "source": [
    "sql_productos = '''(SELECT DISTINCT ID_Producto as ID_Producto_T, ID_Color, NombreProducto AS Nombre, Marca, Necesita_refrigeracion AS Necesitarefrigeracion, Dias_tiempo_entrega,PrecioRecomendado AS Precio_minorista_recomendado, Impuesto, PrecioUnitario AS Precio_unitario FROM WWImportersTransactional.Producto) AS Temp_productos'''\n",
    "sql_colores = '''(SELECT DISTINCT ID_Color, Color FROM WWImportersTransactional.Colores) AS Temp_colores'''\n",
    "\n",
    "productos_df = obtener_dataframe_de_bd(source_db_connection_string, sql_productos, db_user, db_psswd)\n",
    "colores_df = obtener_dataframe_de_bd(source_db_connection_string, sql_colores, db_user, db_psswd)\n",
    "productos_df.printSchema()\n",
    "colores_df.printSchema()\n"
   ]
  },
  {
   "cell_type": "markdown",
   "metadata": {
    "id": "9rKmT9jd86v2"
   },
   "source": [
    "#### 5.2 Transformación\n",
    "Cruzar Productos con Colores"
   ]
  },
  {
   "cell_type": "code",
   "execution_count": 27,
   "metadata": {
    "id": "petU8G6K86v2",
    "outputId": "34d83d0f-f557-4ded-b71e-52afb08dfaf7"
   },
   "outputs": [
    {
     "name": "stdout",
     "output_type": "stream",
     "text": [
      "root\n",
      " |-- ID_Producto_T: integer (nullable = true)\n",
      " |-- Nombre: string (nullable = true)\n",
      " |-- Marca: string (nullable = true)\n",
      " |-- Color: string (nullable = false)\n",
      " |-- Necesitarefrigeracion: integer (nullable = true)\n",
      " |-- Dias_tiempo_entrega: integer (nullable = true)\n",
      " |-- cantidad_por_salida: integer (nullable = true)\n",
      " |-- Precio_minorista_recomendado: decimal(10,0) (nullable = true)\n",
      " |-- Impuesto: decimal(10,0) (nullable = true)\n",
      " |-- Precio_unitario: decimal(10,0) (nullable = true)\n",
      "\n",
      "[Row(ID_Producto_T=1, Nombre='USB missile launcher (Green)', Marca=None, Color='Missing', Necesitarefrigeracion=0, Dias_tiempo_entrega=14, cantidad_por_salida=None, Precio_minorista_recomendado=Decimal('37'), Impuesto=Decimal('15'), Precio_unitario=Decimal('25')), Row(ID_Producto_T=4, Nombre='USB food flash drive - sushi roll', Marca=None, Color='Missing', Necesitarefrigeracion=0, Dias_tiempo_entrega=14, cantidad_por_salida=None, Precio_minorista_recomendado=Decimal('48'), Impuesto=Decimal('15'), Precio_unitario=Decimal('32')), Row(ID_Producto_T=5, Nombre='USB food flash drive - hamburger', Marca=None, Color='Missing', Necesitarefrigeracion=0, Dias_tiempo_entrega=14, cantidad_por_salida=None, Precio_minorista_recomendado=Decimal('48'), Impuesto=Decimal('15'), Precio_unitario=Decimal('32')), Row(ID_Producto_T=3, Nombre='Office cube periscope (Black)', Marca=None, Color='Black', Necesitarefrigeracion=0, Dias_tiempo_entrega=14, cantidad_por_salida=None, Precio_minorista_recomendado=Decimal('28'), Impuesto=Decimal('15'), Precio_unitario=Decimal('19')), Row(ID_Producto_T=2, Nombre='USB rocket launcher (Gray)', Marca=None, Color='Steel Gray', Necesitarefrigeracion=0, Dias_tiempo_entrega=14, cantidad_por_salida=None, Precio_minorista_recomendado=Decimal('37'), Impuesto=Decimal('15'), Precio_unitario=Decimal('25'))]\n"
     ]
    },
    {
     "data": {
      "text/plain": [
       "227"
      ]
     },
     "execution_count": 27,
     "metadata": {},
     "output_type": "execute_result"
    }
   ],
   "source": [
    "# TRANSFORMACION\n",
    "\n",
    "productos_df = productos_df.withColumn(\"cantidad_por_salida\", lit(None).cast(\"int\"))\n",
    "productos_df = productos_df.join(colores_df, how = 'left', on = 'ID_Color').fillna({'Color': 'Missing'})\n",
    "#productos = productos.coalesce(1).withColumn('ID_Producto_DWH', f.monotonically_increasing_id() + 1)\n",
    "productos_df = productos_df.select('ID_Producto_T','Nombre','Marca','Color','Necesitarefrigeracion','Dias_tiempo_entrega', 'cantidad_por_salida','Precio_minorista_recomendado','Impuesto','Precio_unitario')\n",
    "productos_df.printSchema()\n",
    "print(productos_df.head(5))\n",
    "\n",
    "productos_df.count()\n"
   ]
  },
  {
   "cell_type": "markdown",
   "metadata": {
    "id": "R9SnkMUH86v3"
   },
   "source": [
    "#### 5.3 Carga"
   ]
  },
  {
   "cell_type": "code",
   "execution_count": 28,
   "metadata": {
    "id": "MMArotXz86v3"
   },
   "outputs": [
    {
     "data": {
      "text/plain": [
       "DataFrame[ID_Producto_T: int, Nombre: string, Marca: string, Color: string, Necesitarefrigeracion: int, Dias_tiempo_entrega: int, cantidad_por_salida: int, Precio_minorista_recomendado: decimal(10,0), Impuesto: decimal(10,0), Precio_unitario: decimal(10,0)]"
      ]
     },
     "execution_count": 28,
     "metadata": {},
     "output_type": "execute_result"
    }
   ],
   "source": [
    "# CARGUE\n",
    "guardar_db(dest_db_connection_string, productos_df,'Estudiante_111_202315.Producto', db_user, db_psswd)\n",
    "productos_df.unpersist()"
   ]
  },
  {
   "cell_type": "markdown",
   "metadata": {},
   "source": [
    "#### 5.4. Validacion"
   ]
  },
  {
   "cell_type": "code",
   "execution_count": 29,
   "metadata": {},
   "outputs": [
    {
     "name": "stdout",
     "output_type": "stream",
     "text": [
      "[Row(ID_Producto_DWH=1, ID_Producto_T=1, Nombre='USB missile launcher (Green)', Marca=None, Color='Missing', Necesitarefrigeracion=False, Dias_tiempo_entrega=14, cantidad_por_salida=None, Precio_minorista_recomendado=Decimal('37.00'), Impuesto=Decimal('15.00'), Precio_unitario=Decimal('25')), Row(ID_Producto_DWH=2, ID_Producto_T=4, Nombre='USB food flash drive - sushi roll', Marca=None, Color='Missing', Necesitarefrigeracion=False, Dias_tiempo_entrega=14, cantidad_por_salida=None, Precio_minorista_recomendado=Decimal('48.00'), Impuesto=Decimal('15.00'), Precio_unitario=Decimal('32')), Row(ID_Producto_DWH=3, ID_Producto_T=5, Nombre='USB food flash drive - hamburger', Marca=None, Color='Missing', Necesitarefrigeracion=False, Dias_tiempo_entrega=14, cantidad_por_salida=None, Precio_minorista_recomendado=Decimal('48.00'), Impuesto=Decimal('15.00'), Precio_unitario=Decimal('32'))]\n"
     ]
    },
    {
     "data": {
      "text/plain": [
       "227"
      ]
     },
     "execution_count": 29,
     "metadata": {},
     "output_type": "execute_result"
    }
   ],
   "source": [
    "\n",
    "test = obtener_dataframe_de_bd(dest_db_connection_string, \"Estudiante_111_202315.Producto\", db_user, db_psswd)\n",
    "print(test.head(3))\n",
    "test.count()"
   ]
  },
  {
   "cell_type": "markdown",
   "metadata": {
    "id": "YglraEoA86v3"
   },
   "source": [
    "#### 5.5 Evidencia MySQL\n",
    "\n",
    "Fueron almacenados 227 registros desde este notebook.\n",
    "\n",
    "\n",
    "![Numero Registros  Productos MySql](https://raw.githubusercontent.com/EduardoToledoMIAD/ETL/main/Semana_4/images/Producto_MySQL.png)"
   ]
  },
  {
   "cell_type": "markdown",
   "metadata": {
    "id": "UM4L4jA086v3"
   },
   "source": [
    "### 6. Dimension FECHA\n",
    "Su fuente de datos son las fechas encontradas en el campo de FechaTransaccion de la tabla transaccional de Movimientos"
   ]
  },
  {
   "cell_type": "markdown",
   "metadata": {
    "id": "k8O1GvOd86v3"
   },
   "source": [
    "#### 6.1 Extracción"
   ]
  },
  {
   "cell_type": "code",
   "execution_count": 33,
   "metadata": {
    "id": "znROuHS086v3"
   },
   "outputs": [
    {
     "name": "stdout",
     "output_type": "stream",
     "text": [
      "root\n",
      " |-- FechaTransaccion: string (nullable = true)\n",
      "\n"
     ]
    },
    {
     "data": {
      "text/plain": [
       "267300"
      ]
     },
     "execution_count": 33,
     "metadata": {},
     "output_type": "execute_result"
    }
   ],
   "source": [
    "\n",
    "sql_movimientos = '''(SELECT  FechaTransaccion FROM WWImportersTransactional.movimientos) AS Temp_movimientos'''\n",
    "movimientos_df = obtener_dataframe_de_bd(db_connection_string, sql_movimientos, db_user, db_psswd)\n",
    "movimientos_df.printSchema()\n",
    "movimientos_df.count()\n"
   ]
  },
  {
   "cell_type": "markdown",
   "metadata": {
    "id": "Mo633Vpg86v3"
   },
   "source": [
    "#### 6.2 Transformación\n",
    "\n",
    "T1. Estandarizar la fecha. Se evidencia dos tipos de formato de fecha  en memoria de Movimientos\n",
    "- YYYY-MM-DD HH:mm:SS.000000\n",
    "- MMM dd, YYYY\n",
    "\n"
   ]
  },
  {
   "cell_type": "markdown",
   "metadata": {},
   "source": [
    "##### 6.2.1 Transformación T1\n",
    "\n",
    "T1. Estandarizar la fecha. Se evidencia dos tipos de formato de fecha en memoria de Movimientos\n",
    "- YYYY-MM-DD HH:mm:SS.000000\n",
    "- MMM dd, YYYY\n",
    "\n"
   ]
  },
  {
   "cell_type": "code",
   "execution_count": 34,
   "metadata": {
    "id": "wwK8bV8Z86v3",
    "outputId": "7b494261-1640-4108-98f8-65fbe04c7b91"
   },
   "outputs": [
    {
     "name": "stdout",
     "output_type": "stream",
     "text": [
      "203046\n",
      "root\n",
      " |-- FechaTransaccion: string (nullable = true)\n",
      " |-- fecha_estandar: date (nullable = true)\n",
      "\n"
     ]
    },
    {
     "data": {
      "text/plain": [
       "267300"
      ]
     },
     "execution_count": 34,
     "metadata": {},
     "output_type": "execute_result"
    }
   ],
   "source": [
    "# TRANSFORMACION \n",
    "#T1.\n",
    "\n",
    "regex = \"\\d{4}-\\d{2}-\\d{2} \\d{2}:\\d{2}:\\d{2}\"\n",
    "cumpleformato_df = movimientos_df.filter(movimientos_df[\"FechaTransaccion\"].rlike(regex))\n",
    "print(cumpleformato_df.count())\n",
    "\n",
    "def estandarizar_fecha(fecha):\n",
    "    regex= \"\\d{4}-\\d{2}-\\d{2} \\d{2}:\\d{2}:\\d{2}\"\n",
    "    match = re.match(regex, fecha)\n",
    "    if match:\n",
    "        nueva_fecha= fecha[0:19]\n",
    "        return datetime.strptime(nueva_fecha, \"%Y-%m-%d %H:%M:%S\")\n",
    "    else:\n",
    "        regex = \"^(Jan|Feb|Mar|Apr|May|Jun|Jul|Aug|Sep|Oct|Nov|Dec)\\s[0-3]?[0-9],[0-9]{4}$\"\n",
    "        match = re.match(regex, fecha)\n",
    "        if match:\n",
    "            return datetime.strptime(fecha, \"%b %d,%Y\")\n",
    "        else:\n",
    "            return None;\n",
    "\n",
    "func = udf(estandarizar_fecha, DateType())\n",
    "movimientos_df=movimientos_df.withColumn('fecha_estandar',func(col('FechaTransaccion')))\n",
    "movimientos_df.printSchema()\n",
    "movimientos_df.count()\n"
   ]
  },
  {
   "cell_type": "markdown",
   "metadata": {},
   "source": [
    "##### 6.2.2 Transformación T2\n",
    "- Una vez estandarizado las fechas en Movimientos, obtener las fechas no duplicadas y renombrar como Fecha\n",
    "- Esas fechas distintas se les calcula Anyo, Mes , Dia y Numero_Semana_ISO\n",
    "- A estas fechas no duplicadas  estandarizadas  con formato YYYYMMDS se convierten a integer para ser el Key de la tabla de dimension FECHA y se renombra como ID_Fecha"
   ]
  },
  {
   "cell_type": "code",
   "execution_count": 35,
   "metadata": {},
   "outputs": [
    {
     "name": "stdout",
     "output_type": "stream",
     "text": [
      "root\n",
      " |-- ID_Fecha: integer (nullable = true)\n",
      " |-- Fecha: date (nullable = true)\n",
      " |-- Dia: integer (nullable = true)\n",
      " |-- Mes: integer (nullable = true)\n",
      " |-- Anyo: integer (nullable = true)\n",
      " |-- Numero_Semana_ISO: integer (nullable = true)\n",
      "\n"
     ]
    },
    {
     "data": {
      "text/plain": [
       "1070"
      ]
     },
     "execution_count": 35,
     "metadata": {},
     "output_type": "execute_result"
    }
   ],
   "source": [
    "# T2.\n",
    "fechas_df =movimientos_df.selectExpr('fecha_estandar as Fecha').distinct()\n",
    "fechas_df = fechas_df.selectExpr('Fecha', \"day(Fecha) as Dia\", \"month(Fecha) as Mes\",\"year(Fecha) as Anyo\",\"weekofyear(Fecha) as Numero_Semana_ISO\" )\n",
    "fechas_df = fechas_df.withColumn(\"ID_Fecha\", date_format(col(\"Fecha\"), \"yyyyMMdd\"))\n",
    "fechas_df = fechas_df.withColumn(\"ID_Fecha\", col(\"ID_Fecha\").cast('int'))\n",
    "fechas_df = fechas_df.select(col('ID_Fecha'),col('Fecha'), col('Dia'),col('Mes'), col('Anyo'), col('Numero_Semana_ISO'))\n",
    "fechas_df.printSchema()\n",
    "fechas_df.head(2)\n",
    "fechas_df.count()\n",
    "#"
   ]
  },
  {
   "cell_type": "markdown",
   "metadata": {
    "id": "i36NawhX86v4"
   },
   "source": [
    "#### 6.3 Carga"
   ]
  },
  {
   "cell_type": "code",
   "execution_count": 36,
   "metadata": {
    "id": "QcvMzmCf86v4"
   },
   "outputs": [
    {
     "data": {
      "text/plain": [
       "DataFrame[ID_Fecha: int, Fecha: date, Dia: int, Mes: int, Anyo: int, Numero_Semana_ISO: int]"
      ]
     },
     "execution_count": 36,
     "metadata": {},
     "output_type": "execute_result"
    }
   ],
   "source": [
    "# CARGUE\n",
    "\n",
    "guardar_db(dest_db_connection_string, fechas_df,'Estudiante_111_202315.Fecha', db_user, db_psswd)\n",
    "fechas_df.unpersist()"
   ]
  },
  {
   "cell_type": "markdown",
   "metadata": {},
   "source": [
    "#### 6.4 Validacion"
   ]
  },
  {
   "cell_type": "code",
   "execution_count": 37,
   "metadata": {},
   "outputs": [
    {
     "name": "stdout",
     "output_type": "stream",
     "text": [
      "+--------+----------+---+---+----+-----------------+\n",
      "|ID_Fecha|     Fecha|Dia|Mes|Anyo|Numero_Semana_ISO|\n",
      "+--------+----------+---+---+----+-----------------+\n",
      "|20130101|2013-01-01|  1|  1|2013|                1|\n",
      "|20130102|2013-01-02|  2|  1|2013|                1|\n",
      "|20130103|2013-01-03|  3|  1|2013|                1|\n",
      "|20130104|2013-01-04|  4|  1|2013|                1|\n",
      "|20130105|2013-01-05|  5|  1|2013|                1|\n",
      "+--------+----------+---+---+----+-----------------+\n",
      "only showing top 5 rows\n",
      "\n",
      "Numero de registros 1070\n",
      "+----------+\n",
      "|min(Fecha)|\n",
      "+----------+\n",
      "|2013-01-01|\n",
      "+----------+\n",
      "\n"
     ]
    }
   ],
   "source": [
    "test = obtener_dataframe_de_bd(dest_db_connection_string, \"Estudiante_111_202315.Fecha\", db_user, db_psswd)\n",
    "test.show(5)\n",
    "print(f'Numero de registros {test.count()}');\n",
    "test.agg({'Fecha': 'min'}).show()\n"
   ]
  },
  {
   "cell_type": "markdown",
   "metadata": {},
   "source": [
    "##### 6.4.1 Validacion Regla Negocio:\n",
    "*Se valida esta regla de negocio tambien: La falta de datos antes del 2014 es un error de extracción de datos. Los nuevos datos incluyen este año*. \n",
    "\n",
    "La fecha minima es  Jan 1 2013"
   ]
  },
  {
   "cell_type": "markdown",
   "metadata": {
    "id": "AMyvdEB-86v4"
   },
   "source": [
    "#### 6.5 Evidencia MySQL\n",
    "\n",
    "Fueron almacenados 1070 registros desde este notebook.\n",
    "\n",
    "\n",
    "![Numero Registros  Fechas MySql](https://raw.githubusercontent.com/EduardoToledoMIAD/ETL/main/Semana_4/images/Fecha_MySQL.png)"
   ]
  },
  {
   "cell_type": "markdown",
   "metadata": {
    "id": "0ocmdLWv86v4"
   },
   "source": [
    "### 7. Hechos: HECHO_MOVIMIENTO\n",
    "Su fuente de datos es la combinación entre las tablas dimensionales  Fecha, Productos, Proveedores, Clientes, TiposTransaccion y la tabla transaccional Movimientos"
   ]
  },
  {
   "cell_type": "markdown",
   "metadata": {
    "id": "LvgnsPfK86v4"
   },
   "source": [
    "#### 7.1 Extracción"
   ]
  },
  {
   "cell_type": "code",
   "execution_count": 47,
   "metadata": {
    "id": "9b4Qs9_886v4"
   },
   "outputs": [
    {
     "name": "stdout",
     "output_type": "stream",
     "text": [
      "root\n",
      " |-- ProductoID: integer (nullable = true)\n",
      " |-- TipoTransaccionID: integer (nullable = true)\n",
      " |-- ClienteID: double (nullable = true)\n",
      " |-- ProveedorID: string (nullable = true)\n",
      " |-- FechaTransaccion: string (nullable = true)\n",
      " |-- Cantidad: double (nullable = true)\n",
      "\n",
      "root\n",
      " |-- ID_Producto_DWH: long (nullable = true)\n",
      " |-- ID_Producto_T: integer (nullable = true)\n",
      "\n",
      "root\n",
      " |-- ID_Proveedor_DWH: long (nullable = true)\n",
      " |-- ID_Proveedor_T: integer (nullable = true)\n",
      "\n",
      "root\n",
      " |-- ID_Cliente_DWH: long (nullable = true)\n",
      " |-- ID_Cliente_T: integer (nullable = true)\n",
      "\n",
      "root\n",
      " |-- ID_Tipo_transaccion_DWH: long (nullable = true)\n",
      " |-- ID_Tipo_transaccion_T: integer (nullable = true)\n",
      "\n"
     ]
    }
   ],
   "source": [
    "\n",
    "sql_movimientos = '''(SELECT DISTINCT ProductoID, TipoTransaccionID,ClienteID,ProveedorID, FechaTransaccion,Cantidad FROM WWImportersTransactional.movimientos) AS Temp_movimientos'''\n",
    "sql_productos = '''(SELECT DISTINCT ID_Producto_DWH,ID_Producto_T FROM Estudiante_111_202315.Producto) AS Temp_producto'''\n",
    "sql_proveedores =  '''(SELECT DISTINCT  ID_Proveedor_DWH, ID_Proveedor_T FROM Estudiante_111_202315.Proveedor) AS Temp_proveedor'''\n",
    "sql_clientes =  '''(SELECT DISTINCT ID_Cliente_DWH, ID_Cliente_T FROM Estudiante_111_202315.Cliente) AS Temp_cliente'''\n",
    "sql_tipostrans= '''(SELECT DISTINCT ID_Tipo_transaccion_DWH, ID_Tipo_transaccion_T FROM Estudiante_111_202315.TipoTransaccion) AS Temp_tipotran'''\n",
    "\n",
    "movimientos_df = obtener_dataframe_de_bd(source_db_connection_string, sql_movimientos, db_user, db_psswd)\n",
    "movimientos_df.printSchema()\n",
    "productos_dwh_df= obtener_dataframe_de_bd(dest_db_connection_string, sql_productos, db_user, db_psswd)\n",
    "productos_dwh_df.printSchema()\n",
    "proveedores_dwh_df= obtener_dataframe_de_bd(dest_db_connection_string, sql_proveedores, db_user, db_psswd)\n",
    "proveedores_dwh_df.printSchema()\n",
    "clientes_dwh_df= obtener_dataframe_de_bd(dest_db_connection_string, sql_clientes, db_user, db_psswd)\n",
    "clientes_dwh_df.printSchema()\n",
    "tipotran_dwh_df= obtener_dataframe_de_bd(dest_db_connection_string, sql_tipostrans, db_user, db_psswd)\n",
    "tipotran_dwh_df.printSchema()\n",
    "\n"
   ]
  },
  {
   "cell_type": "markdown",
   "metadata": {},
   "source": [
    "#### 7.2 Transformaciones"
   ]
  },
  {
   "cell_type": "markdown",
   "metadata": {},
   "source": [
    "##### 7.2.1 Reglas de Negocio: Validar que Movimientos no tenga duplicados"
   ]
  },
  {
   "cell_type": "code",
   "execution_count": 48,
   "metadata": {},
   "outputs": [
    {
     "name": "stdout",
     "output_type": "stream",
     "text": [
      "+----------+-----------------+---------+-----------+----------------+--------+-----+\n",
      "|ProductoID|TipoTransaccionID|ClienteID|ProveedorID|FechaTransaccion|Cantidad|count|\n",
      "+----------+-----------------+---------+-----------+----------------+--------+-----+\n",
      "+----------+-----------------+---------+-----------+----------------+--------+-----+\n",
      "\n"
     ]
    }
   ],
   "source": [
    "\n",
    "# VErficar no duplicados\n",
    "grupo_df = movimientos_df.groupBy(movimientos_df.columns)\n",
    "cuentagrupos_df = grupo_df.count()\n",
    "#Obtener si hay duplicados\n",
    "cuentagrupos_df.filter(cuentagrupos_df[\"count\"] > 1).show()\n"
   ]
  },
  {
   "cell_type": "markdown",
   "metadata": {},
   "source": [
    "##### 7.2.2 Transformacion: \n",
    "- Todos los provedores vacios en movimientos asignarle 0 a ID_Proveedor_T\n",
    "- Todos los clientes nulos en movimientos asignarle 0 a ID_Cliente_T\n",
    "- Estandarizar fecha  en la columna Fecha\n",
    "- Renombrar ProductID como ID_Producto_T\n",
    "- Renombrar TipoTransaccionID como ID_Tipo_transaccion_T\n",
    "- Renombrar ClienteID como ID_Cliente_T\n",
    "- Renombrar as ProveedorID as ID_Proveedor_T"
   ]
  },
  {
   "cell_type": "code",
   "execution_count": 49,
   "metadata": {},
   "outputs": [
    {
     "name": "stdout",
     "output_type": "stream",
     "text": [
      "root\n",
      " |-- ID_Producto_T: integer (nullable = true)\n",
      " |-- ID_Tipo_transaccion_T: integer (nullable = true)\n",
      " |-- ID_Cliente_T: integer (nullable = true)\n",
      " |-- ID_Proveedor_T: integer (nullable = true)\n",
      " |-- Fecha: date (nullable = true)\n",
      " |-- Dia: integer (nullable = true)\n",
      " |-- Mes: integer (nullable = true)\n",
      " |-- Anyo: integer (nullable = true)\n",
      " |-- Cantidad: double (nullable = true)\n",
      "\n"
     ]
    }
   ],
   "source": [
    "movimientos_df = movimientos_df.withColumn(\"ProveedorID\", when(col(\"ProveedorID\") == \"\", 0).otherwise(col('ProveedorID').cast(\"int\")))\n",
    "movimientos_df = movimientos_df.withColumn(\"ClienteID\", when(col(\"ClienteID\").isNull(), 0).otherwise(col('ClienteID').cast(\"int\")))\n",
    "movimientos_df=movimientos_df.withColumn('Fecha',func(col('FechaTransaccion')))\n",
    "movimientos_df= movimientos_df.selectExpr('ProductoID as ID_Producto_T','TipoTransaccionID as ID_Tipo_transaccion_T', 'ClienteID as ID_Cliente_T','ProveedorID as ID_Proveedor_T', 'Fecha',\"day(Fecha) as Dia\", \"month(Fecha) as Mes\",\"year(Fecha) as Anyo\",\"Cantidad\" )\n",
    "movimientos_df.printSchema()\n"
   ]
  },
  {
   "cell_type": "markdown",
   "metadata": {},
   "source": [
    "##### 7.2.3 Transformacion: Convertir Fecha desde formato YYYYMMDD en Integer para representar la llave foranea con la Tabla dimensional Fecha. \n"
   ]
  },
  {
   "cell_type": "code",
   "execution_count": 50,
   "metadata": {},
   "outputs": [
    {
     "name": "stdout",
     "output_type": "stream",
     "text": [
      "root\n",
      " |-- ID_Fecha: integer (nullable = true)\n",
      " |-- ID_Producto_T: integer (nullable = true)\n",
      " |-- ID_Proveedor_T: integer (nullable = true)\n",
      " |-- ID_Cliente_T: integer (nullable = true)\n",
      " |-- ID_Tipo_transaccion_T: integer (nullable = true)\n",
      " |-- Cantidad: double (nullable = true)\n",
      "\n"
     ]
    }
   ],
   "source": [
    "movimientos_df = movimientos_df.withColumn(\"ID_Fecha\", date_format(col(\"Fecha\"), \"yyyyMMdd\"))\n",
    "movimientos_df = movimientos_df.withColumn(\"ID_Fecha\", col(\"ID_Fecha\").cast('int'))\n",
    "movimientos_df= movimientos_df.select(col('ID_Fecha'), col('ID_Producto_T'),col('ID_Proveedor_T'),col('ID_Cliente_T'), col('ID_Tipo_transaccion_T'), col('Cantidad'))\n",
    "movimientos_df.printSchema()\n",
    "\n"
   ]
  },
  {
   "cell_type": "markdown",
   "metadata": {},
   "source": [
    "##### 7.2.4 Transformacion: \n",
    "- Cruzar Movimientos con Table dimensional Productos\n",
    "- Cruzar Movimientos con Table dimensional Proveedores\n",
    "- Cruzar Movimientos con Table dimensional Clientes\n",
    "- Cruzar Movimientos con Table dimensional TipoTransaccion\n",
    "\n"
   ]
  },
  {
   "cell_type": "code",
   "execution_count": 51,
   "metadata": {},
   "outputs": [
    {
     "name": "stdout",
     "output_type": "stream",
     "text": [
      "root\n",
      " |-- ID_Fecha: integer (nullable = true)\n",
      " |-- ID_Producto_DWH: long (nullable = true)\n",
      " |-- ID_Proveedor_T: integer (nullable = true)\n",
      " |-- ID_Cliente_T: integer (nullable = true)\n",
      " |-- ID_Tipo_transaccion_T: integer (nullable = true)\n",
      " |-- Cantidad: double (nullable = true)\n",
      "\n",
      "root\n",
      " |-- ID_Fecha: integer (nullable = true)\n",
      " |-- ID_Producto_DWH: long (nullable = true)\n",
      " |-- ID_Proveedor_DWH: long (nullable = true)\n",
      " |-- ID_Cliente_T: integer (nullable = true)\n",
      " |-- ID_Tipo_transaccion_T: integer (nullable = true)\n",
      " |-- Cantidad: double (nullable = true)\n",
      "\n",
      "root\n",
      " |-- ID_Fecha: integer (nullable = true)\n",
      " |-- ID_Producto_DWH: long (nullable = true)\n",
      " |-- ID_Proveedor_DWH: long (nullable = true)\n",
      " |-- ID_Cliente_DWH: long (nullable = true)\n",
      " |-- ID_Tipo_transaccion_T: integer (nullable = true)\n",
      " |-- Cantidad: double (nullable = true)\n",
      "\n",
      "root\n",
      " |-- ID_Fecha: integer (nullable = true)\n",
      " |-- ID_Producto_DWH: long (nullable = true)\n",
      " |-- ID_Proveedor_DWH: long (nullable = true)\n",
      " |-- ID_Cliente_DWH: long (nullable = true)\n",
      " |-- ID_Tipo_transaccion_DWH: long (nullable = true)\n",
      " |-- Cantidad: double (nullable = true)\n",
      "\n"
     ]
    },
    {
     "data": {
      "text/plain": [
       "236656"
      ]
     },
     "execution_count": 51,
     "metadata": {},
     "output_type": "execute_result"
    }
   ],
   "source": [
    "\n",
    "temp_df = movimientos_df.join(productos_dwh_df, how = 'left', on = 'ID_Producto_T')\n",
    "temp_df= temp_df.select(col('ID_Fecha'), col('ID_Producto_DWH'),col('ID_Proveedor_T'),col('ID_Cliente_T'), col('ID_Tipo_transaccion_T'), col('Cantidad'))\n",
    "temp_df.printSchema()\n",
    "\n",
    "temp_df = temp_df.join(proveedores_dwh_df, how = 'left', on = 'ID_Proveedor_T')\n",
    "temp_df= temp_df.select(col('ID_Fecha'), col('ID_Producto_DWH'),col('ID_Proveedor_DWH'),col('ID_Cliente_T'), col('ID_Tipo_transaccion_T'), col('Cantidad'))\n",
    "temp_df.printSchema()\n",
    "\n",
    "temp_df = temp_df.join(clientes_dwh_df, how = 'left', on = 'ID_Cliente_T')\n",
    "temp_df= temp_df.select(col('ID_Fecha'), col('ID_Producto_DWH'),col('ID_Proveedor_DWH'),col('ID_Cliente_DWH'), col('ID_Tipo_transaccion_T'), col('Cantidad'))\n",
    "temp_df.printSchema()\n",
    "\n",
    "\n",
    "temp_df = temp_df.join(tipotran_dwh_df, how = 'left', on = 'ID_Tipo_transaccion_T')\n",
    "temp_df= temp_df.select(col('ID_Fecha'), col('ID_Producto_DWH'),col('ID_Proveedor_DWH'),col('ID_Cliente_DWH'), col('ID_Tipo_transaccion_DWH'), col('Cantidad'))\n",
    "temp_df.printSchema()\n",
    "\n",
    "temp_df.count()\n",
    "\n"
   ]
  },
  {
   "cell_type": "code",
   "execution_count": 52,
   "metadata": {},
   "outputs": [
    {
     "data": {
      "text/plain": [
       "set()"
      ]
     },
     "execution_count": 52,
     "metadata": {},
     "output_type": "execute_result"
    }
   ],
   "source": [
    "#Verificar que todos los proveedores de movimientos esten en Proveedores [CONSISTENCIA DE CONTENIDO]\n",
    "ids_proveedores_mov = set([x.ID_Proveedor_T for x in movimientos_df.select('ID_Proveedor_T').collect()])\n",
    "ids_proveedores = set([x.ID_Proveedor_T for x in proveedores_dwh_df.select('ID_Proveedor_T').collect()])\n",
    "\n",
    "\n",
    "ids_proveedores_mov-ids_proveedores\n",
    "\n"
   ]
  },
  {
   "cell_type": "code",
   "execution_count": 53,
   "metadata": {},
   "outputs": [
    {
     "data": {
      "text/plain": [
       "set()"
      ]
     },
     "execution_count": 53,
     "metadata": {},
     "output_type": "execute_result"
    }
   ],
   "source": [
    "#Verificar que todos los clientes  de movimientos esten en Clientes [CONSISTENCIA DE CONTENIDO]\n",
    "ids_clientes_mov = set([x.ID_Cliente_T for x in movimientos_df.select('ID_Cliente_T').collect()])\n",
    "ids_clientes = set([x.ID_Cliente_T for x in clientes_dwh_df.select('ID_Cliente_T').collect()])\n",
    "\n",
    "\n",
    "ids_clientes_mov-ids_clientes"
   ]
  },
  {
   "cell_type": "markdown",
   "metadata": {},
   "source": [
    "#### 7.3 Carga"
   ]
  },
  {
   "cell_type": "code",
   "execution_count": 54,
   "metadata": {},
   "outputs": [
    {
     "data": {
      "text/plain": [
       "DataFrame[ID_Fecha: int, ID_Producto_DWH: bigint, ID_Proveedor_DWH: bigint, ID_Cliente_DWH: bigint, ID_Tipo_transaccion_DWH: bigint, Cantidad: double]"
      ]
     },
     "execution_count": 54,
     "metadata": {},
     "output_type": "execute_result"
    }
   ],
   "source": [
    "guardar_db(dest_db_connection_string, temp_df,'Estudiante_111_202315.Hecho_Movimiento', db_user, db_psswd)#\n",
    "temp_df.unpersist()\n",
    "\n"
   ]
  },
  {
   "cell_type": "markdown",
   "metadata": {},
   "source": [
    "#### 7.4 Validacion"
   ]
  },
  {
   "cell_type": "code",
   "execution_count": 56,
   "metadata": {},
   "outputs": [
    {
     "name": "stdout",
     "output_type": "stream",
     "text": [
      "+--------+---------------+----------------+--------------+-----------------------+--------+\n",
      "|ID_Fecha|ID_Producto_DWH|ID_Proveedor_DWH|ID_Cliente_DWH|ID_Tipo_transaccion_DWH|Cantidad|\n",
      "+--------+---------------+----------------+--------------+-----------------------+--------+\n",
      "|20140917|            181|              14|           610|                      9|     -60|\n",
      "|20141107|            181|              14|           280|                      9|     -60|\n",
      "|20150714|            181|              14|           239|                      9|     -60|\n",
      "|20151201|            181|              14|           423|                      9|     -60|\n",
      "|20140422|            181|              14|           608|                      9|     -60|\n",
      "+--------+---------------+----------------+--------------+-----------------------+--------+\n",
      "only showing top 5 rows\n",
      "\n",
      "Numero de registros 236656\n"
     ]
    }
   ],
   "source": [
    "test = obtener_dataframe_de_bd(dest_db_connection_string, \"Estudiante_111_202315.Hecho_Movimiento\", db_user, db_psswd)\n",
    "test.show(5)\n",
    "print(f'Numero de registros {test.count()}');"
   ]
  },
  {
   "cell_type": "markdown",
   "metadata": {},
   "source": [
    "#### 7.5 Evidencia MySQL\n",
    "\n",
    "Fueron almacenados 236656 registros desde este notebook.\n",
    "\n",
    "\n",
    "![Numero Registros  Fechas MySql](https://raw.githubusercontent.com/EduardoToledoMIAD/ETL/main/Semana_4/images/Hecho_Mov_Conteo1_MySql.png)\n",
    "\n",
    "\n",
    "- Tambien se valida la regla:La falta de datos antes del 2014 es un error de extracción de datos. Los nuevos datos incluyen este año.\n",
    "\n",
    "![Numero Fecha Minima MySql](https://raw.githubusercontent.com/EduardoToledoMIAD/ETL/main/Semana_4/images/Hecho_Mov_Fecha_Min_MySql.png)"
   ]
  },
  {
   "cell_type": "code",
   "execution_count": 57,
   "metadata": {
    "id": "6J9jYwEJ86v-"
   },
   "outputs": [],
   "source": [
    "spark.stop()"
   ]
  },
  {
   "cell_type": "code",
   "execution_count": null,
   "metadata": {},
   "outputs": [],
   "source": []
  }
 ],
 "metadata": {
  "colab": {
   "collapsed_sections": [
    "vtE61qk986vx",
    "X9Oou0g986vy",
    "B5kFkHTD86vz",
    "ddFhEOmL86vz",
    "MuvVgJ4R86v0",
    "BZjDeVYd86v1",
    "_7xbgfCk86v1",
    "Rh_102Yy86v1",
    "HogvCqW_86v2",
    "9rKmT9jd86v2",
    "R9SnkMUH86v3",
    "k8O1GvOd86v3",
    "Mo633Vpg86v3",
    "i36NawhX86v4",
    "LvgnsPfK86v4",
    "dTv_CIOT86v5",
    "N9f10qpB86v9"
   ],
   "name": "MISW-ETL-TutorialETL.ipynb",
   "provenance": []
  },
  "kernelspec": {
   "display_name": "Python 3 (ipykernel)",
   "language": "python",
   "name": "python3"
  },
  "language_info": {
   "codemirror_mode": {
    "name": "ipython",
    "version": 3
   },
   "file_extension": ".py",
   "mimetype": "text/x-python",
   "name": "python",
   "nbconvert_exporter": "python",
   "pygments_lexer": "ipython3",
   "version": "3.7.13"
  }
 },
 "nbformat": 4,
 "nbformat_minor": 4
}
